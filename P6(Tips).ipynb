{
 "cells": [
  {
   "cell_type": "markdown",
   "id": "00e4d5b0",
   "metadata": {},
   "source": [
    "import pandas as pd\n",
    "import numpy as np\n",
    "import seaborn as sns\n",
    "import matplotlib.pyplot as ply\n",
    "\n",
    "\n",
    "sns.barplot(x='day',y='total_bill',data=df)\n",
    "\n",
    "sns.barplot(x='day',y='total_bill',hue='sex', data=df)\n",
    "\n",
    "ply.bar(df['day'],df['total_bill'])\n",
    "\n",
    "sns.lineplot(x='day',y='tip',data=df)\n",
    "\n",
    "sns.lineplot(x='sex',y='total_bill',data=df)\n",
    "\n",
    "ply.plot(df['sex'],df['total_bill'])\n",
    "\n",
    "ply.hist(df['day'])\n",
    "\n",
    "sns.scatterplot(x = \"total_bill\", y = \"tip\", hue= \"sex\", data = df);\n",
    "\n",
    "ply.scatter(df['total_bill'],df['tip'],alpha=0.5)\n",
    "\n",
    "sns.boxplot(x = \"day\", y = \"total_bill\", data = df)\n",
    "\n",
    "sns.violinplot(x =\"day\", y = \"total_bill\", hue = \"time\", data = df);\n",
    "\n",
    "sns.heatmap(df.corr())"
   ]
  }
 ],
 "metadata": {
  "kernelspec": {
   "display_name": "Python 3 (ipykernel)",
   "language": "python",
   "name": "python3"
  },
  "language_info": {
   "codemirror_mode": {
    "name": "ipython",
    "version": 3
   },
   "file_extension": ".py",
   "mimetype": "text/x-python",
   "name": "python",
   "nbconvert_exporter": "python",
   "pygments_lexer": "ipython3",
   "version": "3.9.12"
  }
 },
 "nbformat": 4,
 "nbformat_minor": 5
}
