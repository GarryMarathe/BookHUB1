{
 "cells": [
  {
   "cell_type": "markdown",
   "id": "a120cbb7",
   "metadata": {},
   "source": [
    "import pandas as pd\n",
    "import numpy as np\n",
    "\n",
    "df=pd.read_csv(r'',sep=',')\n",
    "\n",
    "df\n",
    "\n",
    "df.head()\n",
    "\n",
    "df.describe()\n",
    "df.shape\n",
    "df.columns\n",
    "\n",
    "\n",
    "df1=df[df['']>...]\n",
    "df1\n",
    "\n",
    "df_subset1=df[[\"\"]].loc[:]\n",
    "df_subset1\n",
    "\n",
    "merge1=pd.concat([])\n",
    "merge1\n",
    "\n",
    "df.sort_values(by = \"\")\n",
    "\n",
    "df.transpose\n",
    "\n",
    "\n",
    "pd.pivot_table(df,index=\"\",values='')\n",
    "\n",
    "\n",
    "pd.melt(df,Id_vars=[\"\"],value_vars=[\"\"])\n",
    "\n",
    "\n",
    "\n"
   ]
  }
 ],
 "metadata": {
  "kernelspec": {
   "display_name": "Python 3 (ipykernel)",
   "language": "python",
   "name": "python3"
  },
  "language_info": {
   "codemirror_mode": {
    "name": "ipython",
    "version": 3
   },
   "file_extension": ".py",
   "mimetype": "text/x-python",
   "name": "python",
   "nbconvert_exporter": "python",
   "pygments_lexer": "ipython3",
   "version": "3.9.12"
  }
 },
 "nbformat": 4,
 "nbformat_minor": 5
}
